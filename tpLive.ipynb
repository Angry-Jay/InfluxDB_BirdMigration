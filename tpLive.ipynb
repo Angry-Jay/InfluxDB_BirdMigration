{
 "cells": [
  {
   "cell_type": "markdown",
   "id": "f52af640",
   "metadata": {},
   "source": [
    "## Partie 1 : Installation et Configuration (15 min)"
   ]
  },
  {
   "cell_type": "markdown",
   "id": "66859f60",
   "metadata": {},
   "source": [
    "### 1.2 Importation des bibliothèques nécessaires\n"
   ]
  },
  {
   "cell_type": "code",
   "execution_count": 3,
   "id": "a43d3f42",
   "metadata": {},
   "outputs": [],
   "source": [
    "import pandas as pd\n",
    "import numpy as np\n",
    "from datetime import datetime, timedelta\n",
    "import warnings\n",
    "warnings.filterwarnings('ignore')\n",
    "\n",
    "# InfluxDB\n",
    "from influxdb_client import InfluxDBClient, Point\n",
    "from influxdb_client.client.write_api import SYNCHRONOUS\n",
    "\n",
    "# Visualisation\n",
    "import matplotlib.pyplot as plt\n",
    "import plotly.express as px\n",
    "import plotly.graph_objects as go\n",
    "import folium\n",
    "from folium.plugins import HeatMap, MarkerCluster\n",
    "\n",
    "plt.style.use('seaborn-v0_8-darkgrid')\n",
    "%matplotlib inline"
   ]
  },
  {
   "cell_type": "markdown",
   "id": "9ce743b0",
   "metadata": {},
   "source": [
    "### 1.3 Configuration InfluxDB"
   ]
  },
  {
   "cell_type": "code",
   "execution_count": null,
   "id": "a2207e4e",
   "metadata": {},
   "outputs": [
    {
     "name": "stdout",
     "output_type": "stream",
     "text": [
      "✅ Client InfluxDB connecté\n",
      "📊 Bucket: animal-tracking\n"
     ]
    }
   ],
   "source": [
    "# Configuration InfluxDB\n",
    "INFLUX_URL = \"http://localhost:8086\" \n",
    "INFLUX_TOKEN = \"YIOy3XHBmCpYG0jIg3vnqC5c73RTQv-kJWHAh6JVtro1sEYIkTTNRIKjENP_dfLFd5xBT33WSswyIgkdftKylA==\"  # Généré dans InfluxDB UI\n",
    "INFLUX_ORG = \"fil-A3-back-bigData\"\n",
    "INFLUX_BUCKET = \"animal-tracking\"  \n",
    "\n",
    "# Connexion au client\n",
    "client = InfluxDBClient(url=INFLUX_URL, token=INFLUX_TOKEN, org=INFLUX_ORG)\n",
    "\n",
    "# APIs\n",
    "write_api = client.write_api(write_options=SYNCHRONOUS)\n",
    "query_api = client.query_api()\n",
    "\n",
    "print(\"Client InfluxDB connecté\")\n",
    "print(f\"Bucket: {INFLUX_BUCKET}\")"
   ]
  },
  {
   "cell_type": "code",
   "execution_count": null,
   "id": "2e568ede",
   "metadata": {},
   "outputs": [],
   "source": []
  }
 ],
 "metadata": {
  "kernelspec": {
   "display_name": "Python 3 (ipykernel)",
   "language": "python",
   "name": "python3"
  },
  "language_info": {
   "codemirror_mode": {
    "name": "ipython",
    "version": 3
   },
   "file_extension": ".py",
   "mimetype": "text/x-python",
   "name": "python",
   "nbconvert_exporter": "python",
   "pygments_lexer": "ipython3",
   "version": "3.13.9"
  }
 },
 "nbformat": 4,
 "nbformat_minor": 5
}
