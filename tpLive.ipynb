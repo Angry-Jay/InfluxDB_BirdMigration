{
 "cells": [
  {
   "cell_type": "markdown",
   "id": "f52af640",
   "metadata": {},
   "source": [
    "## Partie 1 : Installation et Configuration (15 min)"
   ]
  },
  {
   "cell_type": "markdown",
   "id": "66859f60",
   "metadata": {},
   "source": [
    "### 1.1 Importation des bibliothèques nécessaires"
   ]
  },
  {
   "cell_type": "code",
   "execution_count": 9,
   "id": "a43d3f42",
   "metadata": {},
   "outputs": [],
   "source": [
    "import pandas as pd\n",
    "import numpy as np\n",
    "from datetime import datetime, timedelta\n",
    "import warnings\n",
    "warnings.filterwarnings('ignore')\n",
    "\n",
    "# InfluxDB\n",
    "from influxdb_client import InfluxDBClient, Point\n",
    "from influxdb_client.client.write_api import SYNCHRONOUS\n",
    "\n",
    "# Kaggle\n",
    "import kagglehub\n",
    "\n",
    "# Visualisation\n",
    "import matplotlib.pyplot as plt\n",
    "import plotly.express as px\n",
    "import plotly.graph_objects as go\n",
    "import folium\n",
    "from folium.plugins import HeatMap, MarkerCluster\n",
    "\n",
    "plt.style.use('seaborn-v0_8-darkgrid')\n",
    "%matplotlib inline"
   ]
  },
  {
   "cell_type": "markdown",
   "id": "9ce743b0",
   "metadata": {},
   "source": [
    "### 1.2 Configuration InfluxDB"
   ]
  },
  {
   "cell_type": "code",
   "execution_count": 4,
   "id": "a2207e4e",
   "metadata": {},
   "outputs": [
    {
     "name": "stdout",
     "output_type": "stream",
     "text": [
      "Client InfluxDB connecté\n",
      "Bucket: animal-tracking\n",
      "True\n"
     ]
    }
   ],
   "source": [
    "# Configuration InfluxDB\n",
    "INFLUX_URL = \"http://influxdb2:8086\" \n",
    "INFLUX_TOKEN = \"admin-token\"\n",
    "INFLUX_ORG = \"fil-A3-back-bigData\"\n",
    "INFLUX_BUCKET = \"animal-tracking\"  \n",
    "\n",
    "# Connexion au client\n",
    "client = InfluxDBClient(url=INFLUX_URL, token=INFLUX_TOKEN, org=INFLUX_ORG)\n",
    "\n",
    "# APIs\n",
    "write_api = client.write_api(write_options=SYNCHRONOUS)\n",
    "query_api = client.query_api()\n",
    "\n",
    "print(\"Client InfluxDB connecté\")\n",
    "print(f\"Bucket: {INFLUX_BUCKET}\")\n",
    "\n",
    "print(client.ping())"
   ]
  },
  {
   "cell_type": "markdown",
   "id": "2e568ede",
   "metadata": {},
   "source": [
    "## Partie 2 : Chargement et Exploration des Données"
   ]
  },
  {
   "cell_type": "code",
   "execution_count": 10,
   "id": "fff07ba4",
   "metadata": {},
   "outputs": [
    {
     "name": "stdout",
     "output_type": "stream",
     "text": [
      "Downloading dataset from Kaggle...\n",
      "Downloading from https://www.kaggle.com/api/v1/datasets/download/pulkit8595/movebank-animal-tracking?dataset_version_number=1...\n"
     ]
    },
    {
     "name": "stderr",
     "output_type": "stream",
     "text": [
      "100%|██████████| 2.26M/2.26M [00:00<00:00, 25.8MB/s]"
     ]
    },
    {
     "name": "stdout",
     "output_type": "stream",
     "text": [
      "Extracting files...\n",
      "Dataset downloaded to: /home/jovyan/.cache/kagglehub/datasets/pulkit8595/movebank-animal-tracking/versions/1\n",
      "\n",
      "Files in dataset:\n",
      "  - migration_original.csv (21766.21 KB)\n"
     ]
    },
    {
     "name": "stderr",
     "output_type": "stream",
     "text": [
      "\n"
     ]
    }
   ],
   "source": [
    "import os\n",
    "\n",
    "# Download the Movebank animal tracking dataset\n",
    "path = \"pulkit8595/movebank-animal-tracking\"\n",
    "print(\"Downloading dataset from Kaggle...\")\n",
    "dataset_path = kagglehub.dataset_download(path)\n",
    "print(f\"Dataset downloaded to: {dataset_path}\")\n",
    "\n",
    "# List files in the dataset\n",
    "print(\"\\nFiles in dataset:\")\n",
    "for file in os.listdir(dataset_path):\n",
    "    file_size = os.path.getsize(os.path.join(dataset_path, file)) / 1024  # KB\n",
    "    print(f\"  - {file} ({file_size:.2f} KB)\")"
   ]
  },
  {
   "cell_type": "code",
   "execution_count": null,
   "id": "1243c436",
   "metadata": {},
   "outputs": [
    {
     "name": "stdout",
     "output_type": "stream",
     "text": [
      "Dataset loaded into DataFrame\n",
      "DataFrame shape: (89867, 15)\n"
     ]
    },
    {
     "data": {
      "text/html": [
       "<div>\n",
       "<style scoped>\n",
       "    .dataframe tbody tr th:only-of-type {\n",
       "        vertical-align: middle;\n",
       "    }\n",
       "\n",
       "    .dataframe tbody tr th {\n",
       "        vertical-align: top;\n",
       "    }\n",
       "\n",
       "    .dataframe thead th {\n",
       "        text-align: right;\n",
       "    }\n",
       "</style>\n",
       "<table border=\"1\" class=\"dataframe\">\n",
       "  <thead>\n",
       "    <tr style=\"text-align: right;\">\n",
       "      <th></th>\n",
       "      <th>event-id</th>\n",
       "      <th>visible</th>\n",
       "      <th>timestamp</th>\n",
       "      <th>location-long</th>\n",
       "      <th>location-lat</th>\n",
       "      <th>manually-marked-outlier</th>\n",
       "      <th>visible.1</th>\n",
       "      <th>sensor-type</th>\n",
       "      <th>individual-taxon-canonical-name</th>\n",
       "      <th>tag-local-identifier</th>\n",
       "      <th>individual-local-identifier</th>\n",
       "      <th>study-name</th>\n",
       "      <th>ECMWF Interim Full Daily Invariant Low Vegetation Cover</th>\n",
       "      <th>NCEP NARR SFC Vegetation at Surface</th>\n",
       "      <th>ECMWF Interim Full Daily Invariant High Vegetation Cover</th>\n",
       "    </tr>\n",
       "  </thead>\n",
       "  <tbody>\n",
       "    <tr>\n",
       "      <th>0</th>\n",
       "      <td>1082620685</td>\n",
       "      <td>True</td>\n",
       "      <td>2009-05-27 14:00:00.000</td>\n",
       "      <td>24.58617</td>\n",
       "      <td>61.24783</td>\n",
       "      <td>NaN</td>\n",
       "      <td>True</td>\n",
       "      <td>gps</td>\n",
       "      <td>Larus fuscus</td>\n",
       "      <td>91732</td>\n",
       "      <td>91732A</td>\n",
       "      <td>Navigation experiments in lesser black-backed ...</td>\n",
       "      <td>0.039229</td>\n",
       "      <td>NaN</td>\n",
       "      <td>0.960771</td>\n",
       "    </tr>\n",
       "    <tr>\n",
       "      <th>1</th>\n",
       "      <td>1082620686</td>\n",
       "      <td>True</td>\n",
       "      <td>2009-05-27 20:00:00.000</td>\n",
       "      <td>24.58217</td>\n",
       "      <td>61.23267</td>\n",
       "      <td>NaN</td>\n",
       "      <td>True</td>\n",
       "      <td>gps</td>\n",
       "      <td>Larus fuscus</td>\n",
       "      <td>91732</td>\n",
       "      <td>91732A</td>\n",
       "      <td>Navigation experiments in lesser black-backed ...</td>\n",
       "      <td>0.040803</td>\n",
       "      <td>NaN</td>\n",
       "      <td>0.959197</td>\n",
       "    </tr>\n",
       "    <tr>\n",
       "      <th>2</th>\n",
       "      <td>1082620687</td>\n",
       "      <td>True</td>\n",
       "      <td>2009-05-28 05:00:00.000</td>\n",
       "      <td>24.53133</td>\n",
       "      <td>61.18833</td>\n",
       "      <td>NaN</td>\n",
       "      <td>True</td>\n",
       "      <td>gps</td>\n",
       "      <td>Larus fuscus</td>\n",
       "      <td>91732</td>\n",
       "      <td>91732A</td>\n",
       "      <td>Navigation experiments in lesser black-backed ...</td>\n",
       "      <td>0.052201</td>\n",
       "      <td>NaN</td>\n",
       "      <td>0.947799</td>\n",
       "    </tr>\n",
       "    <tr>\n",
       "      <th>3</th>\n",
       "      <td>1082620688</td>\n",
       "      <td>True</td>\n",
       "      <td>2009-05-28 08:00:00.000</td>\n",
       "      <td>24.58200</td>\n",
       "      <td>61.23283</td>\n",
       "      <td>NaN</td>\n",
       "      <td>True</td>\n",
       "      <td>gps</td>\n",
       "      <td>Larus fuscus</td>\n",
       "      <td>91732</td>\n",
       "      <td>91732A</td>\n",
       "      <td>Navigation experiments in lesser black-backed ...</td>\n",
       "      <td>0.040818</td>\n",
       "      <td>NaN</td>\n",
       "      <td>0.959182</td>\n",
       "    </tr>\n",
       "    <tr>\n",
       "      <th>4</th>\n",
       "      <td>1082620689</td>\n",
       "      <td>True</td>\n",
       "      <td>2009-05-28 14:00:00.000</td>\n",
       "      <td>24.58250</td>\n",
       "      <td>61.23267</td>\n",
       "      <td>NaN</td>\n",
       "      <td>True</td>\n",
       "      <td>gps</td>\n",
       "      <td>Larus fuscus</td>\n",
       "      <td>91732</td>\n",
       "      <td>91732A</td>\n",
       "      <td>Navigation experiments in lesser black-backed ...</td>\n",
       "      <td>0.040753</td>\n",
       "      <td>NaN</td>\n",
       "      <td>0.959247</td>\n",
       "    </tr>\n",
       "  </tbody>\n",
       "</table>\n",
       "</div>"
      ],
      "text/plain": [
       "     event-id  visible                timestamp  location-long  location-lat  \\\n",
       "0  1082620685     True  2009-05-27 14:00:00.000       24.58617      61.24783   \n",
       "1  1082620686     True  2009-05-27 20:00:00.000       24.58217      61.23267   \n",
       "2  1082620687     True  2009-05-28 05:00:00.000       24.53133      61.18833   \n",
       "3  1082620688     True  2009-05-28 08:00:00.000       24.58200      61.23283   \n",
       "4  1082620689     True  2009-05-28 14:00:00.000       24.58250      61.23267   \n",
       "\n",
       "   manually-marked-outlier  visible.1 sensor-type  \\\n",
       "0                      NaN       True         gps   \n",
       "1                      NaN       True         gps   \n",
       "2                      NaN       True         gps   \n",
       "3                      NaN       True         gps   \n",
       "4                      NaN       True         gps   \n",
       "\n",
       "  individual-taxon-canonical-name  tag-local-identifier  \\\n",
       "0                    Larus fuscus                 91732   \n",
       "1                    Larus fuscus                 91732   \n",
       "2                    Larus fuscus                 91732   \n",
       "3                    Larus fuscus                 91732   \n",
       "4                    Larus fuscus                 91732   \n",
       "\n",
       "  individual-local-identifier  \\\n",
       "0                      91732A   \n",
       "1                      91732A   \n",
       "2                      91732A   \n",
       "3                      91732A   \n",
       "4                      91732A   \n",
       "\n",
       "                                          study-name  \\\n",
       "0  Navigation experiments in lesser black-backed ...   \n",
       "1  Navigation experiments in lesser black-backed ...   \n",
       "2  Navigation experiments in lesser black-backed ...   \n",
       "3  Navigation experiments in lesser black-backed ...   \n",
       "4  Navigation experiments in lesser black-backed ...   \n",
       "\n",
       "   ECMWF Interim Full Daily Invariant Low Vegetation Cover  \\\n",
       "0                                           0.039229         \n",
       "1                                           0.040803         \n",
       "2                                           0.052201         \n",
       "3                                           0.040818         \n",
       "4                                           0.040753         \n",
       "\n",
       "   NCEP NARR SFC Vegetation at Surface  \\\n",
       "0                                  NaN   \n",
       "1                                  NaN   \n",
       "2                                  NaN   \n",
       "3                                  NaN   \n",
       "4                                  NaN   \n",
       "\n",
       "   ECMWF Interim Full Daily Invariant High Vegetation Cover  \n",
       "0                                           0.960771         \n",
       "1                                           0.959197         \n",
       "2                                           0.947799         \n",
       "3                                           0.959182         \n",
       "4                                           0.959247         "
      ]
     },
     "execution_count": 11,
     "metadata": {},
     "output_type": "execute_result"
    }
   ],
   "source": [
    "df = pd.read_csv(os.path.join(dataset_path, \"migration_original.csv\"))\n",
    "\n",
    "print(\"Dataset loaded into DataFrame\")\n",
    "print(f\"DataFrame shape: {df.shape}\")\n",
    "df.head()"
   ]
  },
  {
   "cell_type": "code",
   "execution_count": null,
   "id": "d7bd78d3",
   "metadata": {},
   "outputs": [
    {
     "name": "stdout",
     "output_type": "stream",
     "text": [
      "📈 Informations sur le dataset:\n",
      "<class 'pandas.core.frame.DataFrame'>\n",
      "RangeIndex: 89867 entries, 0 to 89866\n",
      "Data columns (total 15 columns):\n",
      " #   Column                                                    Non-Null Count  Dtype  \n",
      "---  ------                                                    --------------  -----  \n",
      " 0   event-id                                                  89867 non-null  int64  \n",
      " 1   visible                                                   89867 non-null  bool   \n",
      " 2   timestamp                                                 89867 non-null  object \n",
      " 3   location-long                                             89867 non-null  float64\n",
      " 4   location-lat                                              89867 non-null  float64\n",
      " 5   manually-marked-outlier                                   0 non-null      float64\n",
      " 6   visible.1                                                 89867 non-null  bool   \n",
      " 7   sensor-type                                               89867 non-null  object \n",
      " 8   individual-taxon-canonical-name                           89867 non-null  object \n",
      " 9   tag-local-identifier                                      89867 non-null  int64  \n",
      " 10  individual-local-identifier                               89867 non-null  object \n",
      " 11  study-name                                                89867 non-null  object \n",
      " 12  ECMWF Interim Full Daily Invariant Low Vegetation Cover   89867 non-null  float64\n",
      " 13  NCEP NARR SFC Vegetation at Surface                       0 non-null      float64\n",
      " 14  ECMWF Interim Full Daily Invariant High Vegetation Cover  89867 non-null  float64\n",
      "dtypes: bool(2), float64(6), int64(2), object(5)\n",
      "memory usage: 9.1+ MB\n",
      "None\n",
      "\n",
      "📊 Statistiques descriptives:\n",
      "           event-id  location-long  location-lat  manually-marked-outlier  \\\n",
      "count  8.986700e+04   89867.000000  89867.000000                      0.0   \n",
      "mean   1.077152e+09      31.091527     31.958247                      NaN   \n",
      "std    7.135704e+07       8.339180     24.841950                      NaN   \n",
      "min    1.507232e+08       4.025170     -2.406330                      NaN   \n",
      "25%    1.082617e+09      24.612415      7.998415                      NaN   \n",
      "50%    1.082645e+09      32.610170     31.171500                      NaN   \n",
      "75%    1.082677e+09      34.956165     59.762580                      NaN   \n",
      "max    1.082711e+09      58.522830     65.232500                      NaN   \n",
      "\n",
      "       tag-local-identifier  \\\n",
      "count          89867.000000   \n",
      "mean           91809.564356   \n",
      "std               57.286126   \n",
      "min            91732.000000   \n",
      "25%            91761.000000   \n",
      "50%            91810.000000   \n",
      "75%            91846.000000   \n",
      "max            91930.000000   \n",
      "\n",
      "       ECMWF Interim Full Daily Invariant Low Vegetation Cover  \\\n",
      "count                                       89867.000000         \n",
      "mean                                            0.205523         \n",
      "std                                             0.245880         \n",
      "min                                             0.000000         \n",
      "25%                                             0.015506         \n",
      "50%                                             0.082805         \n",
      "75%                                             0.372705         \n",
      "max                                             0.999939         \n",
      "\n",
      "       NCEP NARR SFC Vegetation at Surface  \\\n",
      "count                                  0.0   \n",
      "mean                                   NaN   \n",
      "std                                    NaN   \n",
      "min                                    NaN   \n",
      "25%                                    NaN   \n",
      "50%                                    NaN   \n",
      "75%                                    NaN   \n",
      "max                                    NaN   \n",
      "\n",
      "       ECMWF Interim Full Daily Invariant High Vegetation Cover  \n",
      "count                                       89867.000000         \n",
      "mean                                            0.333821         \n",
      "std                                             0.362686         \n",
      "min                                             0.000000         \n",
      "25%                                             0.007435         \n",
      "50%                                             0.230597         \n",
      "75%                                             0.624758         \n",
      "max                                             1.000000         \n",
      "\n",
      "❓ Valeurs manquantes:\n",
      "event-id                                                        0\n",
      "visible                                                         0\n",
      "timestamp                                                       0\n",
      "location-long                                                   0\n",
      "location-lat                                                    0\n",
      "manually-marked-outlier                                     89867\n",
      "visible.1                                                       0\n",
      "sensor-type                                                     0\n",
      "individual-taxon-canonical-name                                 0\n",
      "tag-local-identifier                                            0\n",
      "individual-local-identifier                                     0\n",
      "study-name                                                      0\n",
      "ECMWF Interim Full Daily Invariant Low Vegetation Cover         0\n",
      "NCEP NARR SFC Vegetation at Surface                         89867\n",
      "ECMWF Interim Full Daily Invariant High Vegetation Cover        0\n",
      "dtype: int64\n"
     ]
    }
   ],
   "source": [
    "# Informations sur le dataset\n",
    "print(\"Informations sur le dataset:\")\n",
    "print(df.info())\n",
    "print(\"\\n Statistiques descriptives:\")\n",
    "print(df.describe())\n",
    "print(\"\\n Valeurs manquantes:\")\n",
    "print(df.isnull().sum())"
   ]
  },
  {
   "cell_type": "markdown",
   "id": "bd552f9a",
   "metadata": {},
   "source": [
    "## Partie 3 : Nettoyage des Données"
   ]
  },
  {
   "cell_type": "code",
   "execution_count": 13,
   "id": "zlzucxigrhj",
   "metadata": {},
   "outputs": [
    {
     "name": "stdout",
     "output_type": "stream",
     "text": [
      "Colonnes supprimées: ['manually-marked-outlier', 'NCEP NARR SFC Vegetation at Surface']\n",
      "Dataset nettoyé: 89,867 lignes × 13 colonnes (0 valeurs manquantes)\n"
     ]
    }
   ],
   "source": [
    "columns_to_drop = df.columns[df.isnull().all()].tolist()\n",
    "df_clean = df.drop(columns=columns_to_drop)\n",
    "print(f\"Colonnes supprimées: {columns_to_drop}\")\n",
    "print(f\"Dataset nettoyé: {df_clean.shape[0]:,} lignes × {df_clean.shape[1]} colonnes (0 valeurs manquantes)\")"
   ]
  },
  {
   "cell_type": "markdown",
   "id": "45db26c1",
   "metadata": {},
   "source": [
    "## Partie 4 : Insertion dans InfluxDB"
   ]
  },
  {
   "cell_type": "code",
   "execution_count": null,
   "id": "4aa3e016",
   "metadata": {},
   "outputs": [
    {
     "name": "stdout",
     "output_type": "stream",
     "text": [
      "Index(['event-id', 'visible', 'timestamp', 'location-long', 'location-lat',\n",
      "       'visible.1', 'sensor-type', 'individual-taxon-canonical-name',\n",
      "       'tag-local-identifier', 'individual-local-identifier', 'study-name',\n",
      "       'ECMWF Interim Full Daily Invariant Low Vegetation Cover',\n",
      "       'ECMWF Interim Full Daily Invariant High Vegetation Cover'],\n",
      "      dtype='object')\n"
     ]
    }
   ],
   "source": [
    "write_api.write(\n",
    "    bucket=INFLUX_BUCKET, \n",
    "    org=INFLUX_ORG, \n",
    "    record=df_clean, \n",
    "    data_frame_measurement_name='BIRD-MIGRATION',\n",
    "    data_frame_tag_columns=[\n",
    "        'individual-local-identifier', \n",
    "        'species', \n",
    "        'sensor-type', \n",
    "        'individual-taxon-canonical-name', \n",
    "        'tag-local-identifier', \n",
    "        'study-name',\n",
    "        'ECMWF Interim Full Daily Invariant Low Vegetation Cover',\n",
    "        'ECMWF Interim Full Daily Invariant Tree Cover',\n",
    "    ],\n",
    ")  "
   ]
  },
  {
   "cell_type": "code",
   "execution_count": null,
   "id": "63448e93",
   "metadata": {},
   "outputs": [],
   "source": []
  }
 ],
 "metadata": {
  "kernelspec": {
   "display_name": "Python 3 (ipykernel)",
   "language": "python",
   "name": "python3"
  },
  "language_info": {
   "codemirror_mode": {
    "name": "ipython",
    "version": 3
   },
   "file_extension": ".py",
   "mimetype": "text/x-python",
   "name": "python",
   "nbconvert_exporter": "python",
   "pygments_lexer": "ipython3",
   "version": "3.13.9"
  }
 },
 "nbformat": 4,
 "nbformat_minor": 5
}
